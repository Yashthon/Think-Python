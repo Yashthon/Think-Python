{
  "nbformat": 4,
  "nbformat_minor": 0,
  "metadata": {
    "colab": {
      "name": "Think Python Lists.ipynb",
      "provenance": [],
      "collapsed_sections": [],
      "authorship_tag": "ABX9TyPXLMSYJh0dlD+7ejomvi+/",
      "include_colab_link": true
    },
    "kernelspec": {
      "name": "python3",
      "display_name": "Python 3"
    },
    "language_info": {
      "name": "python"
    }
  },
  "cells": [
    {
      "cell_type": "markdown",
      "metadata": {
        "id": "view-in-github",
        "colab_type": "text"
      },
      "source": [
        "<a href=\"https://colab.research.google.com/github/Yashthon/Think-Python/blob/main/Think_Python_Lists.ipynb\" target=\"_parent\"><img src=\"https://colab.research.google.com/assets/colab-badge.svg\" alt=\"Open In Colab\"/></a>"
      ]
    },
    {
      "cell_type": "markdown",
      "metadata": {
        "id": "mws5MHgY6oQC"
      },
      "source": [
        "#Question 1:From “Think Python” posted on the classroom go to chapter 10: Lists.\n",
        "#Understand and solve all examples from 10.1 to 10.6 and 10.8\n"
      ]
    },
    {
      "cell_type": "code",
      "metadata": {
        "colab": {
          "base_uri": "https://localhost:8080/"
        },
        "id": "RKHbSM7o6g8a",
        "outputId": "0a195051-05db-409d-d81a-17d8ab7cfd72"
      },
      "source": [
        "#10.1 list is a sequence\n",
        "l1 = [10,20,30,40]#integers\n",
        "l2 = ['crunchy frog','ram bladder','lark vomit']#string\n",
        "l3 = ['spam',2.0,5,[10,20]]#mixed list\n",
        "print(l1)\n",
        "print(l2)\n",
        "print(l3)\n",
        "\n",
        "cheeses = ['cheddar','edam','gouda']\n",
        "numbers = [17,123]\n",
        "empty = []\n",
        "print (cheeses, numbers, empty)"
      ],
      "execution_count": null,
      "outputs": [
        {
          "output_type": "stream",
          "name": "stdout",
          "text": [
            "[10, 20, 30, 40]\n",
            "['crunchy frog', 'ram bladder', 'lark vomit']\n",
            "['spam', 2.0, 5, [10, 20]]\n",
            "['cheddar', 'edam', 'gouda'] [17, 123] []\n"
          ]
        }
      ]
    },
    {
      "cell_type": "code",
      "metadata": {
        "colab": {
          "base_uri": "https://localhost:8080/"
        },
        "id": "p4nFguJP62Lx",
        "outputId": "aecf155f-869c-45e9-88e4-6967afa0ca31"
      },
      "source": [
        "#10.2 lists are mutable(can be changed)\n",
        "print(cheeses[0])\n",
        "numbers = [17,123]\n",
        "print(numbers)\n",
        "numbers[1] = 5\n",
        "print(numbers)#displays list after chsanging value at index 1\n",
        "\n",
        "cheeses = ['cheddar','edam','gouda']\n",
        "print('edam' in cheeses)\n",
        "print('slice' in cheeses)"
      ],
      "execution_count": null,
      "outputs": [
        {
          "output_type": "stream",
          "name": "stdout",
          "text": [
            "cheddar\n",
            "[17, 123]\n",
            "[17, 5]\n",
            "True\n",
            "False\n"
          ]
        }
      ]
    },
    {
      "cell_type": "code",
      "metadata": {
        "colab": {
          "base_uri": "https://localhost:8080/"
        },
        "id": "IylSCT0N68wx",
        "outputId": "49c98702-37d3-4f80-af0d-d1385a16efbf"
      },
      "source": [
        "#10.3 Traversing a list\n",
        "cheeses = ['cheddar','edam','gouda']\n",
        "for cheese in cheeses:\n",
        "    print(cheese)\n",
        "\n",
        "num = [2,4,6,8,10]\n",
        "for i in range(len(num)):\n",
        "    num[i] = num[i]*2\n",
        "    print(num[i])\n",
        "\n",
        "nest_list = ['spam',1, ['Brie','Roquefort','Pol le veq'],[1,2,3]]#list can contain other list but counts to single list\n",
        "print(nest_list)\n",
        "print(len(nest_list))"
      ],
      "execution_count": null,
      "outputs": [
        {
          "output_type": "stream",
          "name": "stdout",
          "text": [
            "cheddar\n",
            "edam\n",
            "gouda\n",
            "4\n",
            "8\n",
            "12\n",
            "16\n",
            "20\n",
            "['spam', 1, ['Brie', 'Roquefort', 'Pol le veq'], [1, 2, 3]]\n",
            "4\n"
          ]
        }
      ]
    },
    {
      "cell_type": "code",
      "metadata": {
        "colab": {
          "base_uri": "https://localhost:8080/"
        },
        "id": "IZmwEVvj7AyM",
        "outputId": "c12d2da4-a92e-4882-d14c-6caaff71b56f"
      },
      "source": [
        "#10.4 List Operations\n",
        "# + concatenates lists\n",
        "a = ['you','need']\n",
        "b = ['to','shut','up']\n",
        "c=a+b\n",
        "print(c)\n",
        "# *repeats a string given num of times\n",
        "print([0]*4)\n",
        "d = [1,2,3,4]\n",
        "print(d*2)"
      ],
      "execution_count": null,
      "outputs": [
        {
          "output_type": "stream",
          "name": "stdout",
          "text": [
            "['you', 'need', 'to', 'shut', 'up']\n",
            "[0, 0, 0, 0]\n",
            "[1, 2, 3, 4, 1, 2, 3, 4]\n"
          ]
        }
      ]
    },
    {
      "cell_type": "code",
      "metadata": {
        "colab": {
          "base_uri": "https://localhost:8080/"
        },
        "id": "g_Uk5j147D_4",
        "outputId": "58f5b8ed-b89f-461d-902d-f0d605d59a72"
      },
      "source": [
        "#10.4 List Slices\n",
        "e = ['a','b','c','d','e','f']\n",
        "print(e[1:3])\n",
        "print(e[:3])\n",
        "print(e[3:])\n",
        "print(e[:])\n",
        "e = ['a','b','c','d','e','f']\n",
        "e[1:3] = ['x','y']\n",
        "print(e)"
      ],
      "execution_count": null,
      "outputs": [
        {
          "output_type": "stream",
          "name": "stdout",
          "text": [
            "['b', 'c']\n",
            "['a', 'b', 'c']\n",
            "['d', 'e', 'f']\n",
            "['a', 'b', 'c', 'd', 'e', 'f']\n",
            "['a', 'x', 'y', 'd', 'e', 'f']\n"
          ]
        }
      ]
    },
    {
      "cell_type": "code",
      "metadata": {
        "colab": {
          "base_uri": "https://localhost:8080/"
        },
        "id": "q5jWc6WE70KI",
        "outputId": "405d308b-0479-469c-a61c-09233d0b1dd1"
      },
      "source": [
        "#10.6 List methods\n",
        "x = ['a','b','c']\n",
        "x.append('d')\n",
        "print(x)\n",
        "#extend takes list as arguments and appends all elements\n",
        "x1 = ['a','b','c']\n",
        "x2 = ['d','e','f']\n",
        "x1.extend(x2)\n",
        "print(x1)\n",
        "#sort arranges the elements of the list from low to high.\n",
        "x3 = ['d', 'c', 'e', 'b', 'a']\n",
        "x3.sort()\n",
        "print(x3)\n"
      ],
      "execution_count": null,
      "outputs": [
        {
          "output_type": "stream",
          "name": "stdout",
          "text": [
            "['a', 'b', 'c', 'd']\n",
            "['a', 'b', 'c', 'd', 'e', 'f']\n",
            "['a', 'b', 'c', 'd', 'e']\n"
          ]
        }
      ]
    },
    {
      "cell_type": "code",
      "metadata": {
        "colab": {
          "base_uri": "https://localhost:8080/"
        },
        "id": "iBmmU80S-G_q",
        "outputId": "6b50cd81-5864-464e-ab18-c9987d072533"
      },
      "source": [
        "#10.8 Deleting elements\n",
        "y = ['a', 'b', 'c']\n",
        "x = y.pop(1)\n",
        "print(y)\n",
        "print(x)\n",
        "# pop modifies the list and returns the element that was removed.\n",
        "\n",
        "# If you don’t need the removed value, you can use the del operator:\n",
        "y = ['a', 'b', 'c']\n",
        "del y[1]\n",
        "print(y)\n",
        "# If you know the element you want to remove (but not the index), you can use remove:\n",
        "y = ['a', 'b', 'c']\n",
        "y.remove('b')\n",
        "print(y)"
      ],
      "execution_count": null,
      "outputs": [
        {
          "output_type": "stream",
          "name": "stdout",
          "text": [
            "['a', 'c']\n",
            "b\n",
            "['a', 'c']\n",
            "['a', 'c']\n"
          ]
        }
      ]
    },
    {
      "cell_type": "markdown",
      "metadata": {
        "id": "mhn4WSXkGTnv"
      },
      "source": [
        "2. From the URL mentioned: https://docs.python.org/3/tutorial/datastructures.html\n",
        "# Solve all examples of list until 5.1.1. Using Lists as Stacks"
      ]
    },
    {
      "cell_type": "code",
      "metadata": {
        "colab": {
          "base_uri": "https://localhost:8080/",
          "height": 35
        },
        "id": "2JwmIiNnBURE",
        "outputId": "02a8c64e-721e-4ed5-f6ad-4ef73be94a32"
      },
      "source": [
        "# 5.1. More on Lists\n",
        "fruits = ['orange', 'apple', 'pear', 'banana', 'kiwi', 'apple', 'banana']\n",
        "fruits\n",
        "fruits.count('apple')\n",
        "fruits\n",
        "fruits.count('tangerine')\n",
        "fruits\n",
        "fruits.index('banana')\n",
        "fruits\n",
        "fruits.index('banana', 4)  # Find next banana starting a position 4\n",
        "fruits\n",
        "fruits.reverse()\n",
        "fruits\n",
        "fruits.append('grape')\n",
        "fruits\n",
        "fruits.sort()\n",
        "fruits\n",
        "fruits.pop()"
      ],
      "execution_count": null,
      "outputs": [
        {
          "output_type": "execute_result",
          "data": {
            "application/vnd.google.colaboratory.intrinsic+json": {
              "type": "string"
            },
            "text/plain": [
              "'pear'"
            ]
          },
          "metadata": {},
          "execution_count": 14
        }
      ]
    },
    {
      "cell_type": "code",
      "metadata": {
        "colab": {
          "base_uri": "https://localhost:8080/"
        },
        "id": "gyAgoEdwFgji",
        "outputId": "e5b2eb54-ccc8-4b0e-b765-5a9db90c1928"
      },
      "source": [
        "# 5.1.1. Using Lists as Stacks\n",
        "stack = [3, 4, 5]\n",
        "stack.append(6)\n",
        "stack.append(7)\n",
        "stack\n",
        "stack.pop()\n",
        "stack\n",
        "stack.pop()\n",
        "stack\n",
        "stack.pop()\n",
        "stack"
      ],
      "execution_count": null,
      "outputs": [
        {
          "output_type": "execute_result",
          "data": {
            "text/plain": [
              "[3, 4]"
            ]
          },
          "metadata": {},
          "execution_count": 17
        }
      ]
    },
    {
      "cell_type": "markdown",
      "metadata": {
        "id": "BfmaTQu2GYVc"
      },
      "source": [
        "3. Create list of 20 elements and display it in the reverse order"
      ]
    },
    {
      "cell_type": "code",
      "metadata": {
        "colab": {
          "base_uri": "https://localhost:8080/"
        },
        "id": "Ef0VyMDGF9jF",
        "outputId": "afc7d486-c31b-4b1b-b61d-bf603ae33717"
      },
      "source": [
        "list = [1,2,3,4,5,6,7,8,9,10,11,12,13,14,15,16,17,18,19,20]\n",
        "list.reverse()\n",
        "list"
      ],
      "execution_count": null,
      "outputs": [
        {
          "output_type": "execute_result",
          "data": {
            "text/plain": [
              "[20, 19, 18, 17, 16, 15, 14, 13, 12, 11, 10, 9, 8, 7, 6, 5, 4, 3, 2, 1]"
            ]
          },
          "metadata": {},
          "execution_count": 25
        }
      ]
    },
    {
      "cell_type": "markdown",
      "metadata": {
        "id": "Bqx3atVmJot1"
      },
      "source": [
        "4. Create List1 of 5 elements and list2 of 5 elements. Combine both the lists and display it."
      ]
    },
    {
      "cell_type": "code",
      "metadata": {
        "colab": {
          "base_uri": "https://localhost:8080/"
        },
        "id": "7_gUxwtZIuE6",
        "outputId": "e4397b48-49e9-497c-f32e-e209a3875d5e"
      },
      "source": [
        "list1 = ['a','x','t','d','y']\n",
        "list2 = ['g','j','l','d','w']\n",
        "list3 = list1 + list2\n",
        "list3"
      ],
      "execution_count": null,
      "outputs": [
        {
          "output_type": "execute_result",
          "data": {
            "text/plain": [
              "['a', 'x', 't', 'd', 'y', 'g', 'j', 'l', 'd', 'w']"
            ]
          },
          "metadata": {},
          "execution_count": 27
        }
      ]
    },
    {
      "cell_type": "markdown",
      "metadata": {
        "id": "Ks2S6ECNKisZ"
      },
      "source": [
        "5. Display the following output:\n",
        "[1,2,[3,4,[5,6,7],8],9,10]"
      ]
    },
    {
      "cell_type": "code",
      "metadata": {
        "colab": {
          "base_uri": "https://localhost:8080/"
        },
        "id": "XvrbHDA2KJYj",
        "outputId": "5d10ca3d-a74b-4617-d923-5a1afce9b3a5"
      },
      "source": [
        "a = [\"[1,2,[3,4[5,6,7],8],9,10\"]\n",
        "print(a)"
      ],
      "execution_count": null,
      "outputs": [
        {
          "output_type": "stream",
          "name": "stdout",
          "text": [
            "['[1,2,[3,4[5,6,7],8],9,10']\n"
          ]
        }
      ]
    },
    {
      "cell_type": "markdown",
      "metadata": {
        "id": "Ic3O5K--KhF5"
      },
      "source": [
        "6. Consider following list of numbers [20,30,40,20,50], find and replace first occurrence of\n",
        "20 with 10."
      ]
    },
    {
      "cell_type": "code",
      "metadata": {
        "colab": {
          "base_uri": "https://localhost:8080/",
          "height": 35
        },
        "id": "e7Ymejq3LaFN",
        "outputId": "2dfa4637-d20d-41d9-855e-2f116e57122b"
      },
      "source": [
        "l = [20,30,40,20,50]\n",
        "toStr =' '.join(map(str, l))\n",
        "type(toStr)\n",
        "toStr.replace('20','10',1)"
      ],
      "execution_count": null,
      "outputs": [
        {
          "output_type": "execute_result",
          "data": {
            "application/vnd.google.colaboratory.intrinsic+json": {
              "type": "string"
            },
            "text/plain": [
              "'10 30 40 20 50'"
            ]
          },
          "metadata": {},
          "execution_count": 38
        }
      ]
    },
    {
      "cell_type": "markdown",
      "metadata": {
        "id": "WOp3Pw4tOpJZ"
      },
      "source": [
        "7. Create a list of your trimester 3 subjects. At 3 position add Elective as subject."
      ]
    },
    {
      "cell_type": "code",
      "metadata": {
        "colab": {
          "base_uri": "https://localhost:8080/"
        },
        "id": "_6bHUKZsMeIm",
        "outputId": "9835c95d-f719-46e5-8ab7-e408f83491f2"
      },
      "source": [
        "sub = ['Python','ML','Android']\n",
        "sub[2:] = ['Elective']\n",
        "sub"
      ],
      "execution_count": null,
      "outputs": [
        {
          "output_type": "execute_result",
          "data": {
            "text/plain": [
              "['Python', 'ML', 'Elective']"
            ]
          },
          "metadata": {},
          "execution_count": 44
        }
      ]
    },
    {
      "cell_type": "markdown",
      "metadata": {
        "id": "o54RCz_GQfth"
      },
      "source": [
        "8. Create a list of 10 numbers and display sum of the numbers."
      ]
    },
    {
      "cell_type": "code",
      "metadata": {
        "colab": {
          "base_uri": "https://localhost:8080/"
        },
        "id": "ab2E2iE-QJIW",
        "outputId": "c31c2975-2dee-49dc-bc4a-9fea3a572dfb"
      },
      "source": [
        "num = [1,0,9,5,3,2,7,9,5,12]\n",
        "len(num)\n",
        "sum(num)"
      ],
      "execution_count": null,
      "outputs": [
        {
          "output_type": "execute_result",
          "data": {
            "text/plain": [
              "53"
            ]
          },
          "metadata": {},
          "execution_count": 49
        }
      ]
    },
    {
      "cell_type": "code",
      "metadata": {
        "id": "2cXBJGuSQr3L"
      },
      "source": [
        ""
      ],
      "execution_count": null,
      "outputs": []
    }
  ]
}