{
  "nbformat": 4,
  "nbformat_minor": 0,
  "metadata": {
    "colab": {
      "name": "Data Structures.ipynb",
      "provenance": [],
      "collapsed_sections": [],
      "authorship_tag": "ABX9TyMj+wbwN0OWLoTfmU/6mMeN",
      "include_colab_link": true
    },
    "kernelspec": {
      "name": "python3",
      "display_name": "Python 3"
    },
    "language_info": {
      "name": "python"
    }
  },
  "cells": [
    {
      "cell_type": "markdown",
      "metadata": {
        "id": "view-in-github",
        "colab_type": "text"
      },
      "source": [
        "<a href=\"https://colab.research.google.com/github/Yashthon/Think-Python/blob/main/Data_Structures.ipynb\" target=\"_parent\"><img src=\"https://colab.research.google.com/assets/colab-badge.svg\" alt=\"Open In Colab\"/></a>"
      ]
    },
    {
      "cell_type": "markdown",
      "source": [
        "### Data Structures in Python Part II and Control statements"
      ],
      "metadata": {
        "id": "SzLQ9F8Ty-De"
      }
    },
    {
      "cell_type": "code",
      "execution_count": null,
      "metadata": {
        "colab": {
          "base_uri": "https://localhost:8080/"
        },
        "id": "i62svcq7yMLZ",
        "outputId": "559cc853-13b3-4209-ba05-bf120d46aa0c"
      },
      "outputs": [
        {
          "output_type": "stream",
          "name": "stdout",
          "text": [
            "a\n",
            "b\n"
          ]
        }
      ],
      "source": [
        "# 1. From Learn Python in 7 days--- from pages 70 to 77, from pages 102 to 118 solve the examples\n",
        "fruit = 'banana'\n",
        "letter = fruit[1]\n",
        "print (letter)\n",
        "letter = fruit[0]\n",
        "print (letter)"
      ]
    },
    {
      "cell_type": "code",
      "source": [
        "fruit = 'banana'\n",
        "len(fruit)"
      ],
      "metadata": {
        "colab": {
          "base_uri": "https://localhost:8080/"
        },
        "id": "uMB9Xaji0toM",
        "outputId": "bc148f61-4798-4a54-ebc2-1267abc730c0"
      },
      "execution_count": null,
      "outputs": [
        {
          "output_type": "execute_result",
          "data": {
            "text/plain": [
              "6"
            ]
          },
          "metadata": {},
          "execution_count": 3
        }
      ]
    },
    {
      "cell_type": "markdown",
      "source": [
        "Exercise 8.1 Write a function that takes a string as an argument and displays the letters backward,\n",
        "one per line."
      ],
      "metadata": {
        "id": "C_5p9cFh3ENU"
      }
    },
    {
      "cell_type": "code",
      "source": [
        "n = input(\"Enter string \")\n",
        "# i = 0\n",
        "# j = len(n)\n",
        "# reverse = string[::-1]\n",
        "# while i < j:\n",
        "#   letter = n[i]\n",
        "#   print(reverse(letter))\n",
        "#   i = i + 1\n",
        "for char in reversed(n):\n",
        "  print(char)\n"
      ],
      "metadata": {
        "colab": {
          "base_uri": "https://localhost:8080/"
        },
        "id": "yZdViFvI1Uli",
        "outputId": "f7c5e069-a982-415b-dda8-9101c732ae91"
      },
      "execution_count": null,
      "outputs": [
        {
          "output_type": "stream",
          "name": "stdout",
          "text": [
            "Enter string YAsh\n",
            "h\n",
            "s\n",
            "A\n",
            "Y\n"
          ]
        }
      ]
    },
    {
      "cell_type": "code",
      "source": [
        "prefixes = 'JKLMNOPQ'\n",
        "suffix = 'ack'\n",
        "for letter in prefixes:\n",
        "  print (letter + suffix)"
      ],
      "metadata": {
        "colab": {
          "base_uri": "https://localhost:8080/"
        },
        "id": "GxitMzo-750v",
        "outputId": "915fba58-1df3-4e9d-e1f1-30938829e2e0"
      },
      "execution_count": null,
      "outputs": [
        {
          "output_type": "stream",
          "name": "stdout",
          "text": [
            "Jack\n",
            "Kack\n",
            "Lack\n",
            "Mack\n",
            "Nack\n",
            "Oack\n",
            "Pack\n",
            "Qack\n"
          ]
        }
      ]
    },
    {
      "cell_type": "markdown",
      "source": [
        "8.4 String slices"
      ],
      "metadata": {
        "id": "7EUMC-uh-JgB"
      }
    },
    {
      "cell_type": "code",
      "source": [
        "s = 'Monty Python'\n",
        "print (s[0:5])\n",
        "print (s[6:13])"
      ],
      "metadata": {
        "colab": {
          "base_uri": "https://localhost:8080/"
        },
        "id": "et2LxpyW1keV",
        "outputId": "6923f252-7b6b-4272-abf6-e8af6663b7bf"
      },
      "execution_count": null,
      "outputs": [
        {
          "output_type": "stream",
          "name": "stdout",
          "text": [
            "Monty\n",
            "Python\n"
          ]
        }
      ]
    },
    {
      "cell_type": "code",
      "source": [
        "fruit = 'banana'\n",
        "fruit[:3]\n",
        "fruit[3:]"
      ],
      "metadata": {
        "colab": {
          "base_uri": "https://localhost:8080/",
          "height": 35
        },
        "id": "XlXjPlYY2RjA",
        "outputId": "fad6965c-be4d-4fb1-cb23-7cc97443b24d"
      },
      "execution_count": null,
      "outputs": [
        {
          "output_type": "execute_result",
          "data": {
            "application/vnd.google.colaboratory.intrinsic+json": {
              "type": "string"
            },
            "text/plain": [
              "'ana'"
            ]
          },
          "metadata": {},
          "execution_count": 34
        }
      ]
    },
    {
      "cell_type": "markdown",
      "source": [
        "Debugging"
      ],
      "metadata": {
        "id": "a8mAqXq2_NN6"
      }
    },
    {
      "cell_type": "code",
      "source": [
        "def is_reverse(word1, word2):\n",
        "  if len(word1) != len(word2):\n",
        "    return False\n",
        "  i = 0\n",
        "  j = len(word2)\n",
        "while j > 0:\n",
        "    if word1[i] != word2[j]:\n",
        "    return False\n",
        "i = i+1\n",
        "j = j-1\n",
        "return True"
      ],
      "metadata": {
        "id": "72IhQAcE-pqt"
      },
      "execution_count": null,
      "outputs": []
    },
    {
      "cell_type": "code",
      "source": [
        "# Exercise 11.2 Dictionaries have a method called get that takes a key and a default value. If the key\n",
        "# appears in the dictionary, get returns the corresponding value; otherwise it returns the default value.\n",
        "def histogram(s):\n",
        "  d = dict()\n",
        "  for c in s:\n",
        "    if c not in d:\n",
        "      d[c] = 1\n",
        "    else:\n",
        "      d[c] += 1\n",
        "    return d"
      ],
      "metadata": {
        "id": "BTXGHML8_WsR"
      },
      "execution_count": null,
      "outputs": []
    },
    {
      "cell_type": "code",
      "source": [
        "h = histogram('brontosaurus')\n",
        "print (h)\n",
        "{'a': 1, 'b': 1, 'o': 2, 'n': 1, 's': 2, 'r': 2, 'u': 2, 't': 1}"
      ],
      "metadata": {
        "colab": {
          "base_uri": "https://localhost:8080/"
        },
        "id": "awxy2SeBAKMW",
        "outputId": "c3c07199-4b6d-4779-9542-416175d79126"
      },
      "execution_count": null,
      "outputs": [
        {
          "output_type": "stream",
          "name": "stdout",
          "text": [
            "{'b': 1}\n"
          ]
        },
        {
          "output_type": "execute_result",
          "data": {
            "text/plain": [
              "{'a': 1, 'b': 1, 'n': 1, 'o': 2, 'r': 2, 's': 2, 't': 1, 'u': 2}"
            ]
          },
          "metadata": {},
          "execution_count": 3
        }
      ]
    },
    {
      "cell_type": "markdown",
      "source": [
        "Exercise 11.2 Dictionaries have a method called get that takes a key and a default value. If the key\n",
        "appears in the dictionary, get returns the corresponding value; otherwise it returns the default value."
      ],
      "metadata": {
        "id": "jzphj3PtdQEw"
      }
    },
    {
      "cell_type": "code",
      "source": [
        "h = histogram('a')\n",
        "print (h)\n",
        "{'a': 1}\n",
        "h.get('a', 0)\n",
        "h.get('b', 0)"
      ],
      "metadata": {
        "colab": {
          "base_uri": "https://localhost:8080/"
        },
        "id": "-KZ4ECOmApOi",
        "outputId": "480f3422-3320-459c-e67e-2578acf4320d"
      },
      "execution_count": null,
      "outputs": [
        {
          "output_type": "stream",
          "name": "stdout",
          "text": [
            "{'a': 1}\n"
          ]
        },
        {
          "output_type": "execute_result",
          "data": {
            "text/plain": [
              "0"
            ]
          },
          "metadata": {},
          "execution_count": 4
        }
      ]
    },
    {
      "cell_type": "markdown",
      "source": [
        "Looping and dictionaries"
      ],
      "metadata": {
        "id": "DKhlKQh9dtdw"
      }
    },
    {
      "cell_type": "code",
      "source": [
        "def print_hist(h):\n",
        "  for c in h:\n",
        "    print (c, h[c])"
      ],
      "metadata": {
        "id": "FsGJxkw4djKy"
      },
      "execution_count": null,
      "outputs": []
    },
    {
      "cell_type": "code",
      "source": [
        "h = histogram('parrot')\n",
        "print_hist(h)"
      ],
      "metadata": {
        "colab": {
          "base_uri": "https://localhost:8080/"
        },
        "id": "fLflI9qgd0cd",
        "outputId": "466b8b89-e716-4bb7-e0e7-24bf296013ab"
      },
      "execution_count": null,
      "outputs": [
        {
          "output_type": "stream",
          "name": "stdout",
          "text": [
            "p 1\n"
          ]
        }
      ]
    },
    {
      "cell_type": "markdown",
      "source": [
        "Reverse lookup"
      ],
      "metadata": {
        "id": "i3KnzL3Aea2M"
      }
    },
    {
      "cell_type": "code",
      "source": [
        "def reverse_lookup(d, v):\n",
        "  for k in d:\n",
        "    if d[k] == v:\n",
        "      return k\n",
        "  raise ValueError"
      ],
      "metadata": {
        "id": "Z4Dynt5qeHFt"
      },
      "execution_count": null,
      "outputs": []
    },
    {
      "cell_type": "code",
      "source": [
        "h = histogram('parrot')\n",
        "k = reverse_lookup(h, 2)\n",
        "print (k)"
      ],
      "metadata": {
        "colab": {
          "base_uri": "https://localhost:8080/",
          "height": 287
        },
        "id": "UGm-fRvpekqL",
        "outputId": "80748919-8d4b-462c-e5e6-c5ff248af3cd"
      },
      "execution_count": null,
      "outputs": [
        {
          "output_type": "error",
          "ename": "ValueError",
          "evalue": "ignored",
          "traceback": [
            "\u001b[0;31m---------------------------------------------------------------------------\u001b[0m",
            "\u001b[0;31mValueError\u001b[0m                                Traceback (most recent call last)",
            "\u001b[0;32m<ipython-input-10-0278e2f14b04>\u001b[0m in \u001b[0;36m<module>\u001b[0;34m()\u001b[0m\n\u001b[1;32m      1\u001b[0m \u001b[0mh\u001b[0m \u001b[0;34m=\u001b[0m \u001b[0mhistogram\u001b[0m\u001b[0;34m(\u001b[0m\u001b[0;34m'parrot'\u001b[0m\u001b[0;34m)\u001b[0m\u001b[0;34m\u001b[0m\u001b[0;34m\u001b[0m\u001b[0m\n\u001b[0;32m----> 2\u001b[0;31m \u001b[0mk\u001b[0m \u001b[0;34m=\u001b[0m \u001b[0mreverse_lookup\u001b[0m\u001b[0;34m(\u001b[0m\u001b[0mh\u001b[0m\u001b[0;34m,\u001b[0m \u001b[0;36m2\u001b[0m\u001b[0;34m)\u001b[0m\u001b[0;34m\u001b[0m\u001b[0;34m\u001b[0m\u001b[0m\n\u001b[0m\u001b[1;32m      3\u001b[0m \u001b[0mprint\u001b[0m \u001b[0;34m(\u001b[0m\u001b[0mk\u001b[0m\u001b[0;34m)\u001b[0m\u001b[0;34m\u001b[0m\u001b[0;34m\u001b[0m\u001b[0m\n",
            "\u001b[0;32m<ipython-input-9-01ae19f4cd5c>\u001b[0m in \u001b[0;36mreverse_lookup\u001b[0;34m(d, v)\u001b[0m\n\u001b[1;32m      3\u001b[0m     \u001b[0;32mif\u001b[0m \u001b[0md\u001b[0m\u001b[0;34m[\u001b[0m\u001b[0mk\u001b[0m\u001b[0;34m]\u001b[0m \u001b[0;34m==\u001b[0m \u001b[0mv\u001b[0m\u001b[0;34m:\u001b[0m\u001b[0;34m\u001b[0m\u001b[0;34m\u001b[0m\u001b[0m\n\u001b[1;32m      4\u001b[0m       \u001b[0;32mreturn\u001b[0m \u001b[0mk\u001b[0m\u001b[0;34m\u001b[0m\u001b[0;34m\u001b[0m\u001b[0m\n\u001b[0;32m----> 5\u001b[0;31m   \u001b[0;32mraise\u001b[0m \u001b[0mValueError\u001b[0m\u001b[0;34m\u001b[0m\u001b[0;34m\u001b[0m\u001b[0m\n\u001b[0m",
            "\u001b[0;31mValueError\u001b[0m: "
          ]
        }
      ]
    },
    {
      "cell_type": "markdown",
      "source": [
        "Dictionaries and lists"
      ],
      "metadata": {
        "id": "3oCkQrgbgA-k"
      }
    },
    {
      "cell_type": "code",
      "source": [
        "def invert_dict(d):\n",
        "  inv = dict()\n",
        "  for key in d:\n",
        "    val = d[key]\n",
        "    if val not in inv:\n",
        "      inv[val] = [key]\n",
        "    else:\n",
        "      inv[val].append(key)\n",
        "  return inv"
      ],
      "metadata": {
        "id": "He20ZBChftku"
      },
      "execution_count": null,
      "outputs": []
    },
    {
      "cell_type": "code",
      "source": [
        "hist = histogram('parrot')\n",
        "print(hist)\n",
        "a =  {'a':1, 'p': 1, 'r': 2, 't': 1, 'o': 1}\n",
        "inv = invert_dict(a)\n",
        "print(inv)"
      ],
      "metadata": {
        "colab": {
          "base_uri": "https://localhost:8080/"
        },
        "id": "8e9AgrE7hFzE",
        "outputId": "82309f0e-0c02-47a4-ace2-1a4c1a39199f"
      },
      "execution_count": null,
      "outputs": [
        {
          "output_type": "stream",
          "name": "stdout",
          "text": [
            "{'p': 1}\n",
            "{1: ['a', 'p', 't', 'o'], 2: ['r']}\n"
          ]
        }
      ]
    },
    {
      "cell_type": "code",
      "source": [
        "# Exercise 11.5 Read the documentation of the dictionary method setdefault and use it to write a\n",
        "# more concise version of invert_dict.\n",
        "a =  {'a':1, 'b': 3, 'c': 5, 'd': 7, 'e': 9}\n",
        "reversed_dictionary = {value:key for (key,value)in a.items()}\n",
        "print(reversed_dictionary)"
      ],
      "metadata": {
        "colab": {
          "base_uri": "https://localhost:8080/"
        },
        "id": "09g4LjS1hxcD",
        "outputId": "958c00d6-e224-43e4-bf17-3f04f19fc637"
      },
      "execution_count": null,
      "outputs": [
        {
          "output_type": "stream",
          "name": "stdout",
          "text": [
            "{1: 'a', 3: 'b', 5: 'c', 7: 'd', 9: 'e'}\n"
          ]
        }
      ]
    },
    {
      "cell_type": "markdown",
      "source": [
        "Memos"
      ],
      "metadata": {
        "id": "igVTD7zBj97v"
      }
    },
    {
      "cell_type": "code",
      "source": [
        "# Fibonacci using memos\n",
        "known = {0:0, 1:1}\n",
        "def fibonacci(n):\n",
        "  if n in known:\n",
        "    return known[n]\n",
        "  res = fibonacci(n-1) + fibonacci(n-2)\n",
        "  known[n] = res\n",
        "  return res\n"
      ],
      "metadata": {
        "id": "tWZpQwy0jhLj"
      },
      "execution_count": null,
      "outputs": []
    },
    {
      "cell_type": "code",
      "source": [
        "# Exercise 11.6 Run this version of fibonacci and the original with a range of parameters and\n",
        "# compare their run times.\n",
        "fibonacci(100)"
      ],
      "metadata": {
        "colab": {
          "base_uri": "https://localhost:8080/"
        },
        "id": "Z-COdE5skVLm",
        "outputId": "8abb9149-1aee-414e-f2bb-d6216e1b80d1"
      },
      "execution_count": null,
      "outputs": [
        {
          "output_type": "execute_result",
          "data": {
            "text/plain": [
              "354224848179261915075"
            ]
          },
          "metadata": {},
          "execution_count": 28
        }
      ]
    },
    {
      "cell_type": "markdown",
      "source": [
        "Global variables"
      ],
      "metadata": {
        "id": "WvmTiylZlANu"
      }
    },
    {
      "cell_type": "code",
      "source": [
        "verbose = True\n",
        "def example1():\n",
        "  if verbose:\n",
        "    print ('Running example1')"
      ],
      "metadata": {
        "id": "_hV_Fcuhkqa1"
      },
      "execution_count": null,
      "outputs": []
    },
    {
      "cell_type": "markdown",
      "source": [
        "Long integers"
      ],
      "metadata": {
        "id": "4Z3t6-kWlnlN"
      }
    },
    {
      "cell_type": "code",
      "source": [
        "fibo = fibonacci(50) # Data type must be Long 'as per book'.\n",
        "print(fibo)\n",
        "type(fibo)"
      ],
      "metadata": {
        "colab": {
          "base_uri": "https://localhost:8080/"
        },
        "id": "xKgl-dQ1lLj9",
        "outputId": "8869fa26-be5f-4a18-d8a5-8de534ae4993"
      },
      "execution_count": null,
      "outputs": [
        {
          "output_type": "stream",
          "name": "stdout",
          "text": [
            "12586269025\n"
          ]
        },
        {
          "output_type": "execute_result",
          "data": {
            "text/plain": [
              "int"
            ]
          },
          "metadata": {},
          "execution_count": 39
        }
      ]
    },
    {
      "cell_type": "markdown",
      "source": [
        "# **Exercises**"
      ],
      "metadata": {
        "id": "7zQUHVYVmbJ_"
      }
    },
    {
      "cell_type": "code",
      "source": [
        "# Exercise 11.8 If you did Exercise 10.5, you already have a function named has_duplicates that\n",
        "# takes a list as a parameter and returns True if there is any object that appears more than once in the\n",
        "# list.\n",
        "# Use a dictionary to write a faster, simpler version of has_duplicates.\n",
        "list1 = [5,7,3,1,8,9,6]\n",
        "\n",
        "def dups(List):\n",
        "  dictionary = {}\n",
        "  for items in List:\n",
        "    dictionary[items] = 1 + dictionary.get(items, 0)\n",
        "    if dictionary[items] > 1:\n",
        "      return True\n",
        "  return False\n",
        "print(dups(list1))"
      ],
      "metadata": {
        "colab": {
          "base_uri": "https://localhost:8080/"
        },
        "id": "yPSQQYXulq8Q",
        "outputId": "f6f017a2-b0d4-475d-8317-811a3096d0fa"
      },
      "execution_count": null,
      "outputs": [
        {
          "output_type": "stream",
          "name": "stdout",
          "text": [
            "False\n"
          ]
        }
      ]
    },
    {
      "cell_type": "code",
      "source": [
        "# Exercise 11.9 Two words are “rotate pairs” if you can rotate one of them and get the other (see\n",
        "# rotate_word in Exercise 8.12).\n",
        "\n",
        "# Write a program that reads a wordlist and finds all the rotate pairs.\n",
        "!pip install rotate"
      ],
      "metadata": {
        "colab": {
          "base_uri": "https://localhost:8080/"
        },
        "id": "MEllYAHPn0s0",
        "outputId": "57924786-a537-4d91-c86d-2b0650d3eada"
      },
      "execution_count": null,
      "outputs": [
        {
          "output_type": "stream",
          "name": "stdout",
          "text": [
            "\u001b[31mERROR: Could not find a version that satisfies the requirement rotate (from versions: none)\u001b[0m\n",
            "\u001b[31mERROR: No matching distribution found for rotate\u001b[0m\n"
          ]
        }
      ]
    },
    {
      "cell_type": "markdown",
      "source": [
        "# **Tuples**"
      ],
      "metadata": {
        "id": "WVTcnISA1-uH"
      }
    },
    {
      "cell_type": "code",
      "source": [
        "# Exercise 12.1 Many of the built-in functions use variable-length argument tuples. For example,\n",
        "# max and min can take any number of arguments:\n",
        "max(1,2,3)\n"
      ],
      "metadata": {
        "colab": {
          "base_uri": "https://localhost:8080/"
        },
        "id": "rXdU70E8rwMz",
        "outputId": "81d34512-bd87-41ee-8b0b-7b8e9ce4169a"
      },
      "execution_count": null,
      "outputs": [
        {
          "output_type": "execute_result",
          "data": {
            "text/plain": [
              "3"
            ]
          },
          "metadata": {},
          "execution_count": 57
        }
      ]
    },
    {
      "cell_type": "markdown",
      "source": [
        "# 2. Write a menu driven program to show operation on Dictionary and List operation such as:\n",
        "#Create\n",
        "#Append\n",
        "#Delete\n",
        "#Modify and take input from user"
      ],
      "metadata": {
        "id": "p3i0U9m32eyV"
      }
    },
    {
      "cell_type": "code",
      "source": [
        "# dict1 = {}\n",
        "# # creating options  \n",
        "# while True:  \n",
        "#     print(\"\\nMAIN MENU\")  \n",
        "#     print(\"1. Create\") \n",
        "#     print(\"2. Append\")  \n",
        "#     print(\"3. Delete\")  \n",
        "#     choice1 = int(input(\"Enter the Choice:\"))\n",
        "\n",
        "#     if choice1 == 1:\n",
        " \n",
        "#       print(\"\\na. Dictionary\")\n",
        "#       print(\"\\nb. List\")\n",
        "#       i1 = input(\"Enter your choice here \") \n",
        "\n",
        "#       if 'a' in i1:# for dictionary\n",
        "#         key = input(\"Enter key \")\n",
        "#         value = input(\"Enter value \")\n",
        "#         dict1[key] = [value]\n",
        "#         print(dict1)\n",
        "#         break\n",
        "#         continue\n",
        "#       elif 'b' in i1: # for list\n",
        "#           lst = []\n",
        "#           n = int(input(\"Enter number of elements : \"))\n",
        "#       for i in range(0, n):\n",
        "#         element = input(\"Enter elements\")\n",
        "#         lst.append(element)\n",
        "#         print(lst)\n",
        "\n",
        "#     if choice2 == 2:\n",
        "#       print(\"\\na. Dictionary\")\n",
        "#       print(\"\\nb. List\")\n",
        "#       i2 = input(\"Enter your choice here \") \n",
        "#       if 'a' in i2:\n",
        "#         key = input(\"Enter key \")\n",
        "#         value = input(\"Enter value \")\n",
        "#         dict1[key]=value\n",
        "#         print(dict1)\n",
        "#         break\n",
        "#         continue\n",
        "\n",
        "#       elif 'b' in i2:\n",
        "#         element1 = input(\"Enter elements\")\n",
        "#         lst.append(elemen1)\n",
        "d = {}\n",
        "while True:\n",
        "    print(\"OPERATIONS ON DICTIONARY\\n1.Create element\\n2.Append Element\\n3.Delete Element\\n4.Update Element\\n5.Exit\\n\\n\")\n",
        "    n=int(input(\"Enter choice :\"))\n",
        " \n",
        "    if n == 1:\n",
        "        a=input(\"Enter Key :\")\n",
        "        b=input(\"Enter value: \")\n",
        " \n",
        "        d[a]=b\n",
        "        print(d)\n",
        " \n",
        "    elif n==2:\n",
        "        a = input(\"Enter Key :\")\n",
        "        b = input(\"Enter value: \")\n",
        " \n",
        "        d[a] = b\n",
        "        print(d)\n",
        " \n",
        "    elif n==3:\n",
        "        a = input(\"Enter Key of Element you want to delete:\")\n",
        "        d.pop(a)\n",
        "        print(d)\n",
        "        \n",
        "    elif n==4:\n",
        "        a = input(\"Enter Key of Element you want to update:\")\n",
        "        b = input(\"Enter value:\")\n",
        "        d[a]=b \n",
        "        print(d)\n",
        "\n",
        "    elif n==5:\n",
        "      break\n",
        "\n",
        "\n",
        "\n",
        "\n",
        "\n",
        "\n",
        "\n",
        "\n",
        "        \n",
        "\n",
        "      \n"
      ],
      "metadata": {
        "colab": {
          "base_uri": "https://localhost:8080/"
        },
        "id": "J6mOk2LU0Y_4",
        "outputId": "60ac5415-4c46-4230-9d81-1448446f86ef"
      },
      "execution_count": null,
      "outputs": [
        {
          "name": "stdout",
          "output_type": "stream",
          "text": [
            "OPERATIONS ON DICTIONARY\n",
            "1.Create element\n",
            "2.Append Element\n",
            "3.Delete Element\n",
            "4.Update Element\n",
            "5.Exit\n",
            "\n",
            "\n",
            "Enter choice :5\n"
          ]
        }
      ]
    },
    {
      "cell_type": "markdown",
      "source": [
        "#3. Remove duplicates from a list."
      ],
      "metadata": {
        "id": "jaQRpWSjLS6I"
      }
    },
    {
      "cell_type": "code",
      "source": [
        "list1 = [12,45,32,12,6,6,33,23,65,12,19,90,65,98,198]\n",
        "print('Original list:'\"\\n\",list1)\n",
        "rem_list = list(set(list1))\n",
        "print('List values after removing duplicates:'\"\\n\",rem_list)"
      ],
      "metadata": {
        "colab": {
          "base_uri": "https://localhost:8080/"
        },
        "id": "cqZFBEWb9Rsu",
        "outputId": "67de971f-31b1-489a-e70a-b0c8ad322b4f"
      },
      "execution_count": null,
      "outputs": [
        {
          "output_type": "stream",
          "name": "stdout",
          "text": [
            "Original list:\n",
            " [12, 45, 32, 12, 6, 6, 33, 23, 65, 12, 19, 90, 65, 98, 198]\n",
            "List values after removing duplicates:\n",
            " [32, 33, 65, 98, 6, 198, 12, 45, 19, 23, 90]\n"
          ]
        }
      ]
    },
    {
      "cell_type": "markdown",
      "source": [
        "#4. Display a list of even numbers between 1 to 100."
      ],
      "metadata": {
        "id": "Au0h6F8yLr0j"
      }
    },
    {
      "cell_type": "code",
      "source": [
        "a=1\n",
        "n=100\n",
        "print('Even Numbers between 1-100 are:')\n",
        "for num in range(a, n + 1):\n",
        "    if num % 2 == 0:\n",
        "        print(num)"
      ],
      "metadata": {
        "colab": {
          "base_uri": "https://localhost:8080/"
        },
        "id": "3Z2jrtSmLecB",
        "outputId": "8321860e-10aa-4407-c54d-0e7c9c335c54"
      },
      "execution_count": null,
      "outputs": [
        {
          "output_type": "stream",
          "name": "stdout",
          "text": [
            "Even Numbers between 1-100 are:\n",
            "2\n",
            "4\n",
            "6\n",
            "8\n",
            "10\n",
            "12\n",
            "14\n",
            "16\n",
            "18\n",
            "20\n",
            "22\n",
            "24\n",
            "26\n",
            "28\n",
            "30\n",
            "32\n",
            "34\n",
            "36\n",
            "38\n",
            "40\n",
            "42\n",
            "44\n",
            "46\n",
            "48\n",
            "50\n",
            "52\n",
            "54\n",
            "56\n",
            "58\n",
            "60\n",
            "62\n",
            "64\n",
            "66\n",
            "68\n",
            "70\n",
            "72\n",
            "74\n",
            "76\n",
            "78\n",
            "80\n",
            "82\n",
            "84\n",
            "86\n",
            "88\n",
            "90\n",
            "92\n",
            "94\n",
            "96\n",
            "98\n",
            "100\n"
          ]
        }
      ]
    },
    {
      "cell_type": "markdown",
      "source": [
        "5. [1,4,6,7,9,0] Display the elements from the index as per the following.\n",
        "a) First three elements\n",
        "b) Elements omitting the first and last elements\n",
        "c) Last element\n",
        "d) Sort the list in the descending order."
      ],
      "metadata": {
        "id": "Kl7YuzlgME5g"
      }
    },
    {
      "cell_type": "code",
      "source": [
        "list1=[1,4,6,7,9,0]\n",
        "#a\n",
        "print(list1[0:3])\n",
        "#b\n",
        "print(list1[1:5])\n",
        "#c\n",
        "print(list1[-1])\n",
        "#d\n",
        "list1.sort(reverse=True)\n",
        "print(list1)"
      ],
      "metadata": {
        "colab": {
          "base_uri": "https://localhost:8080/"
        },
        "id": "Y-p_DYn1Lx6A",
        "outputId": "66104e15-9cab-4454-ebc4-1e38411c4c88"
      },
      "execution_count": null,
      "outputs": [
        {
          "output_type": "stream",
          "name": "stdout",
          "text": [
            "[1, 4, 6]\n",
            "[4, 6, 7, 9]\n",
            "0\n",
            "[9, 7, 6, 4, 1, 0]\n"
          ]
        }
      ]
    },
    {
      "cell_type": "markdown",
      "source": [
        "6. Merge the given two dictionaries in one {&#39;a&#39;:1,&#39;c&#39;:3}, {&#39;b&#39;:2,&#39;e&#39;:5,&#39;d&#39;:4}."
      ],
      "metadata": {
        "id": "bdI_0CURMXNO"
      }
    },
    {
      "cell_type": "code",
      "source": [
        "one={'a':1,'c':3}\n",
        "two={'b':2,'e':5,'d':4}\n",
        "k=two.keys()\n",
        "v=two.values()\n",
        "for i in k:\n",
        "    for j in v:\n",
        "        one[i]=j\n",
        "\n",
        "print(one)"
      ],
      "metadata": {
        "colab": {
          "base_uri": "https://localhost:8080/"
        },
        "id": "cxZDDqtUMQW8",
        "outputId": "082ed805-65e8-4caf-dac6-b865896f35d0"
      },
      "execution_count": null,
      "outputs": [
        {
          "output_type": "stream",
          "name": "stdout",
          "text": [
            "{'a': 1, 'c': 3, 'b': 4, 'e': 4, 'd': 4}\n"
          ]
        }
      ]
    },
    {
      "cell_type": "markdown",
      "source": [
        "7. Sort a tuple which is having elements (4,5,2,7,1,9,3)."
      ],
      "metadata": {
        "id": "zGK3kr4FMf3M"
      }
    },
    {
      "cell_type": "code",
      "source": [
        "tuple1=(2,4,6,8,6,9,3,11)\n",
        "tup=sorted(tuple1)\n",
        "print(tup)"
      ],
      "metadata": {
        "colab": {
          "base_uri": "https://localhost:8080/"
        },
        "id": "1I457vI-MeO3",
        "outputId": "ff3b915e-a6fa-470e-c55e-ffbfeddf9da3"
      },
      "execution_count": null,
      "outputs": [
        {
          "output_type": "stream",
          "name": "stdout",
          "text": [
            "[2, 3, 4, 6, 6, 8, 9, 11]\n"
          ]
        }
      ]
    },
    {
      "cell_type": "markdown",
      "source": [
        "8. Get the intersection of two lists. [1,2,3,4,5,6] and [3,4,5,6,7,8]."
      ],
      "metadata": {
        "id": "ZjhNB58nNDxt"
      }
    },
    {
      "cell_type": "code",
      "source": [
        "list2=[1,2,3,4,5,6]\n",
        "list3=[3,4,5,6,7,8]\n",
        "list4=[]\n",
        "for i in range(len(list2)):\n",
        "    for j in list3:\n",
        "        if(list2[i]==j):\n",
        "            list4.append(j)\n",
        "print(list4)"
      ],
      "metadata": {
        "colab": {
          "base_uri": "https://localhost:8080/"
        },
        "id": "qSuO7_6EM9ZY",
        "outputId": "f9b25fd0-4483-4d42-871f-2e33f5c9a496"
      },
      "execution_count": null,
      "outputs": [
        {
          "output_type": "stream",
          "name": "stdout",
          "text": [
            "[3, 4, 5, 6]\n"
          ]
        }
      ]
    },
    {
      "cell_type": "markdown",
      "source": [
        "9. Create Menu Driven Programme :( Use Dictionary, while, else, if)\n",
        "Print “1. Add student&quot;\n",
        "Print &quot;2. Remove student&quot;\n",
        "Print &quot;3. Print grades&quot;\n",
        "Print &quot;4. Record grade&quot;\n",
        "Print &quot;5. Print Menu&quot;\n",
        "Print &quot;6. Exit&quot;"
      ],
      "metadata": {
        "id": "Z7tSskOENh3m"
      }
    },
    {
      "cell_type": "code",
      "source": [
        ""
      ],
      "metadata": {
        "id": "MaNeq5yQNdSv"
      },
      "execution_count": null,
      "outputs": []
    },
    {
      "cell_type": "markdown",
      "source": [
        "10. Create and display a simple calculator which performs following operations:\n",
        "Addition, Subtraction, Multiplication and Division"
      ],
      "metadata": {
        "id": "Xrk-0If8Nldr"
      }
    },
    {
      "cell_type": "code",
      "source": [
        "ch=int(input(\"\\n1.Addition\\n2.Subtraction\\n3.Multiplication\\n4.Division\\n5.Exit\\nEnter your choice:\"))\n",
        "n1=float(input(\"Enter number 1: \"))\n",
        "n2=float(input(\"Enter number 2: \"))\n",
        "if ch==1:\n",
        "    print(\"The addition of two number is:\",n1+n2)\n",
        "elif ch==2:\n",
        "    print(\"The subtraction of two number is:\",n1-n2)\n",
        "elif ch==3:\n",
        "    print(\"The multiplication of two number is:\",n1*n2)\n",
        "\n",
        "elif ch==4:\n",
        "    print(\"The division of two number is:\",n1/n2)\n",
        "elif ch==5:\n",
        "  break"
      ],
      "metadata": {
        "id": "sygTXMRgNq7x"
      },
      "execution_count": null,
      "outputs": []
    },
    {
      "cell_type": "code",
      "source": [
        ""
      ],
      "metadata": {
        "id": "SnNEzZKgNvxi"
      },
      "execution_count": null,
      "outputs": []
    }
  ]
}